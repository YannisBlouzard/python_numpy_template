{
 "cells": [
  {
   "cell_type": "code",
   "execution_count": null,
   "metadata": {
    "lines_to_next_cell": 0
   },
   "outputs": [],
   "source": []
  },
  {
   "cell_type": "markdown",
   "metadata": {},
   "source": [
    "# Python for scientific programming"
   ]
  },
  {
   "cell_type": "markdown",
   "metadata": {},
   "source": [
    "## NUMPY\n",
    "\n",
    "First go and read the following sections on [numpy_quickstart_page](https://numpy.org/doc/stable/user/quickstart.html)\n",
    "\n",
    "```\n",
    "Prerequisites\n",
    "The Basics\n",
    "\n",
    "    An example\n",
    "    Array Creation\n",
    "    Printing Arrays\n",
    "    Basic Operations\n",
    "    Universal Functions\n",
    "    Indexing, Slicing and Iterating\n",
    "\n",
    "Shape Manipulation\n",
    "\n",
    "    Changing the shape of an array\n",
    "    Stacking together different arrays\n",
    "    Splitting one array into several smaller ones\n",
    "\n",
    "Copies and Views\n",
    "\n",
    "    No Copy at All\n",
    "    View or Shallow Copy\n",
    "    Deep Copy\n",
    "    Functions and Methods Overview\n",
    "```\n",
    "\n",
    "You can run your own experiments in the following cell. \n",
    "When you are ready start the exercices."
   ]
  },
  {
   "cell_type": "code",
   "execution_count": null,
   "metadata": {
    "lines_to_next_cell": 0
   },
   "outputs": [],
   "source": [
    "import numpy as np\n",
    "\n",
    "tab = np.array([1,2,3], dtype=np.float32)\n",
    "print(tab.sum())\n"
   ]
  },
  {
   "cell_type": "markdown",
   "metadata": {},
   "source": [
    "Create an array of shape 320,240 with only value 255 in it except at column 20 where the value is 80"
   ]
  },
  {
   "cell_type": "code",
   "execution_count": null,
   "metadata": {},
   "outputs": [],
   "source": []
  },
  {
   "cell_type": "markdown",
   "metadata": {},
   "source": []
  },
  {
   "cell_type": "markdown",
   "metadata": {},
   "source": [
    "## Exercises\n",
    "\n",
    "### A maze\n",
    "\n",
    "In the context of robotics we usually have to deal with a discretize representation of the world. When we are working with robot operating on the ground we use a 2D representation: a Grid.\n",
    "\n",
    "Create a 100 x 100 grid using __numpy__ where each cell contains the value 0.0. The meaning of a 0 is the absence of obstacle.\n",
    "\n",
    "Then add obstacle (fill a 1.0 in the corresponding cell) at the following positions:\n",
    "\n",
    "Position_with_obstacles: [array([85, 63]), array([51, 26]), array([30,  4]), array([7, 1]), array([17, 81]), array([64,\n",
    " 91]), array([50, 60]), array([97, 72]), array([63, 54]), array([55, 93])]\n"
   ]
  },
  {
   "cell_type": "code",
   "execution_count": null,
   "metadata": {},
   "outputs": [],
   "source": [
    "from numpy.random import default_rng\n",
    "rng_i = default_rng(0).integers\n",
    "\n",
    "n_obstacles = 10\n",
    "random_pos = [rng_i([100, 100]) for _ in range(n_obstacles)]\n",
    "print(random_pos)\n",
    "\n"
   ]
  },
  {
   "cell_type": "code",
   "execution_count": null,
   "metadata": {
    "deletable": false,
    "lines_to_next_cell": 0,
    "nbgrader": {
     "cell_type": "code",
     "checksum": "96b6e66dcedf74b47c2786b03481a879",
     "grade": true,
     "grade_id": "cell-ec893c39b0629752",
     "locked": false,
     "points": 5,
     "schema_version": 3,
     "solution": true,
     "task": false
    }
   },
   "outputs": [],
   "source": [
    "# YOUR CODE HERE\n",
    "raise NotImplementedError()"
   ]
  },
  {
   "cell_type": "code",
   "execution_count": null,
   "metadata": {},
   "outputs": [],
   "source": [
    "from matplotlib import pyplot as plt\n",
    "plt.imshow(maze, interpolation=None)"
   ]
  },
  {
   "cell_type": "markdown",
   "metadata": {},
   "source": []
  },
  {
   "cell_type": "markdown",
   "metadata": {},
   "source": [
    "Write a function that compute a path from one coordinate to an other, draw the path in the image using value = 10.\n",
    "You have the rigth to modify the matrix when navigating into it."
   ]
  },
  {
   "cell_type": "code",
   "execution_count": null,
   "metadata": {
    "deletable": false,
    "nbgrader": {
     "cell_type": "code",
     "checksum": "aa84caf57a24dc786ace7c8eb4d4bc0d",
     "grade": true,
     "grade_id": "cell-e1766bf3fde03043",
     "locked": false,
     "points": 15,
     "schema_version": 3,
     "solution": true,
     "task": false
    }
   },
   "outputs": [],
   "source": [
    "# YOUR CODE HERE\n",
    "raise NotImplementedError()"
   ]
  },
  {
   "cell_type": "code",
   "execution_count": null,
   "metadata": {},
   "outputs": [],
   "source": [
    "\n",
    "    "
   ]
  },
  {
   "cell_type": "markdown",
   "metadata": {},
   "source": [
    "\n",
    "\n"
   ]
  }
 ],
 "metadata": {
  "kernelspec": {
   "display_name": "Python 3",
   "language": "python",
   "name": "python3"
  },
  "language_info": {
   "codemirror_mode": {
    "name": "ipython",
    "version": 3
   },
   "file_extension": ".py",
   "mimetype": "text/x-python",
   "name": "python",
   "nbconvert_exporter": "python",
   "pygments_lexer": "ipython3",
   "version": "3.8.6"
  }
 },
 "nbformat": 4,
 "nbformat_minor": 4
}
